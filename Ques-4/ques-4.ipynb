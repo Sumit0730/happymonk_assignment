{
 "cells": [
  {
   "cell_type": "markdown",
   "id": "d6c3fd21",
   "metadata": {},
   "source": [
    "# Problem"
   ]
  },
  {
   "cell_type": "markdown",
   "id": "89501b51",
   "metadata": {},
   "source": [
    "Collect data (images) and annotate them for two classes: Person and vehicle. You may use platforms such as LabelImg for annotations. You may limit to 800 images for the dataset. Perform object detection on your collected dataset and find the mean distance between the two classes in each image. You may use YOLOv5 for detection."
   ]
  },
  {
   "cell_type": "code",
   "execution_count": 26,
   "id": "0f770247",
   "metadata": {},
   "outputs": [],
   "source": [
    "from keras.preprocessing.image import ImageDataGenerator\n",
    "from tensorflow.keras.applications.mobilenet_v2 import preprocess_input\n",
    "from tensorflow.keras.preprocessing.image import load_img\n",
    "from tensorflow.keras.preprocessing.image import img_to_array\n",
    "from skimage import io\n",
    "import os"
   ]
  },
  {
   "cell_type": "code",
   "execution_count": 27,
   "id": "50cffe7b",
   "metadata": {},
   "outputs": [],
   "source": [
    "datagen = ImageDataGenerator(        \n",
    "        rotation_range = 40,\n",
    "        shear_range = 0.2,\n",
    "        zoom_range = 0.2,\n",
    "        horizontal_flip = True,\n",
    "        brightness_range = (0.5, 1.5))"
   ]
  },
  {
   "cell_type": "code",
   "execution_count": 28,
   "id": "318f9c06",
   "metadata": {},
   "outputs": [],
   "source": [
    "DIRECTORY = \"train/\"\n",
    "CATEGORIES = [\"bengali\",'English','hindi','tamil']"
   ]
  },
  {
   "cell_type": "code",
   "execution_count": 29,
   "id": "51faccab",
   "metadata": {},
   "outputs": [],
   "source": [
    "data = []\n",
    "labels = []"
   ]
  },
  {
   "cell_type": "code",
   "execution_count": 30,
   "id": "a7f4caf4",
   "metadata": {},
   "outputs": [],
   "source": [
    "for category in CATEGORIES:\n",
    "    path = os.path.join(DIRECTORY, category)\n",
    "    for img in os.listdir(path):\n",
    "        img_path = os.path.join(path, img)\n",
    "        image = load_img(img_path, target_size = (224,224))\n",
    "        image = img_to_array(image)\n",
    "        image = image.reshape((1, ) + image.shape) \n",
    "        image = preprocess_input(image)\n",
    "        \n",
    "        data.append(image)\n",
    "        labels.append(category)"
   ]
  },
  {
   "cell_type": "code",
   "execution_count": 31,
   "id": "b4755b96",
   "metadata": {},
   "outputs": [
    {
     "data": {
      "text/plain": [
       "{'English', 'bengali', 'hindi', 'tamil'}"
      ]
     },
     "execution_count": 31,
     "metadata": {},
     "output_type": "execute_result"
    }
   ],
   "source": [
    "set(labels)"
   ]
  },
  {
   "cell_type": "code",
   "execution_count": 21,
   "id": "c0463fbf",
   "metadata": {},
   "outputs": [],
   "source": [
    "x=data[:11]\n",
    "y=data[11:21]\n",
    "z=data[21:26]\n",
    "w=data[25:31]\n"
   ]
  },
  {
   "cell_type": "code",
   "execution_count": 32,
   "id": "7d4c8e6d",
   "metadata": {},
   "outputs": [],
   "source": [
    "## for bengali number plate \n",
    "\n",
    "for j in x:\n",
    "    i=0\n",
    "    for batch in datagen.flow(j, batch_size=16,\n",
    "                              save_to_dir= r'./train/bengali/',\n",
    "                              save_prefix='bengali',\n",
    "                              save_format='jpg'):    \n",
    "        i += 1    \n",
    "        if i > 15:        \n",
    "            break\n",
    "\n"
   ]
  },
  {
   "cell_type": "code",
   "execution_count": 33,
   "id": "c5e35013",
   "metadata": {},
   "outputs": [],
   "source": [
    "## for english number plate \n",
    "\n",
    "for j in y:\n",
    "    i=0\n",
    "    for batch in datagen.flow(j, batch_size=16,\n",
    "                              save_to_dir= r'./train/English/',\n",
    "                              save_prefix='english',\n",
    "                              save_format='jpg'):    \n",
    "        i += 1    \n",
    "        if i > 15:        \n",
    "            break\n",
    "\n"
   ]
  },
  {
   "cell_type": "code",
   "execution_count": 34,
   "id": "a6b4d508",
   "metadata": {},
   "outputs": [],
   "source": [
    "## for hindi number plate \n",
    "\n",
    "for j in z:\n",
    "    i=0\n",
    "    for batch in datagen.flow(j, batch_size=16,\n",
    "                              save_to_dir= r'./train/hindi/',\n",
    "                              save_prefix='hindi',\n",
    "                              save_format='jpg'):    \n",
    "        i += 1    \n",
    "        if i > 15:        \n",
    "            break\n",
    "\n"
   ]
  },
  {
   "cell_type": "code",
   "execution_count": 35,
   "id": "821888ea",
   "metadata": {},
   "outputs": [],
   "source": [
    "## for tamil number plate \n",
    "\n",
    "for j in w:\n",
    "    i=0\n",
    "    for batch in datagen.flow(j, batch_size=16,\n",
    "                              save_to_dir= r'./train/tamil/',\n",
    "                              save_prefix='tamil',\n",
    "                              save_format='jpg'):    \n",
    "        i += 1    \n",
    "        if i > 15:        \n",
    "            break\n",
    "\n"
   ]
  },
  {
   "cell_type": "code",
   "execution_count": null,
   "id": "fb8d9c0b",
   "metadata": {},
   "outputs": [],
   "source": []
  }
 ],
 "metadata": {
  "kernelspec": {
   "display_name": "Python 3",
   "language": "python",
   "name": "python3"
  },
  "language_info": {
   "codemirror_mode": {
    "name": "ipython",
    "version": 3
   },
   "file_extension": ".py",
   "mimetype": "text/x-python",
   "name": "python",
   "nbconvert_exporter": "python",
   "pygments_lexer": "ipython3",
   "version": "3.8.8"
  }
 },
 "nbformat": 4,
 "nbformat_minor": 5
}
