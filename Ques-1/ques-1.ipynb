{
 "cells": [
  {
   "cell_type": "markdown",
   "id": "7986d85c",
   "metadata": {},
   "source": [
    "# Problem:"
   ]
  },
  {
   "cell_type": "markdown",
   "id": "b68d60cb",
   "metadata": {},
   "source": [
    "Consider a large dataset (say, a time series) A. Also, consider a smaller dataset B. How do you ensure whether sets A and B identify the same variable? Illustrate it with a Python script."
   ]
  },
  {
   "cell_type": "code",
   "execution_count": 1,
   "id": "a743e0eb",
   "metadata": {},
   "outputs": [],
   "source": [
    "import pandas as pd\n",
    "import opendatasets as od"
   ]
  },
  {
   "cell_type": "code",
   "execution_count": 12,
   "id": "e1330548",
   "metadata": {},
   "outputs": [
    {
     "name": "stdout",
     "output_type": "stream",
     "text": [
      "Please provide your Kaggle credentials to download this dataset. Learn more: http://bit.ly/kaggle-creds\n",
      "Your Kaggle username: sumit0730\n",
      "Your Kaggle Key: ········\n"
     ]
    },
    {
     "name": "stderr",
     "output_type": "stream",
     "text": [
      "100%|█████████████████████████████████████████████████████████████████████████████| 29.2k/29.2k [00:00<00:00, 1.74MB/s]"
     ]
    },
    {
     "name": "stdout",
     "output_type": "stream",
     "text": [
      "Downloading national-stock-exchange-time-series.zip to .\\national-stock-exchange-time-series\n",
      "\n"
     ]
    },
    {
     "name": "stderr",
     "output_type": "stream",
     "text": [
      "\n"
     ]
    }
   ],
   "source": [
    "## loading a time series data \n",
    "od.download('https://www.kaggle.com/datasets/atulanandjha/national-stock-exchange-time-series')"
   ]
  },
  {
   "cell_type": "code",
   "execution_count": 13,
   "id": "cf08e800",
   "metadata": {},
   "outputs": [],
   "source": [
    "df1=pd.read_csv('./national-stock-exchange-time-series/infy_stock.csv')"
   ]
  },
  {
   "cell_type": "code",
   "execution_count": 14,
   "id": "2647050b",
   "metadata": {},
   "outputs": [
    {
     "data": {
      "text/html": [
       "<div>\n",
       "<style scoped>\n",
       "    .dataframe tbody tr th:only-of-type {\n",
       "        vertical-align: middle;\n",
       "    }\n",
       "\n",
       "    .dataframe tbody tr th {\n",
       "        vertical-align: top;\n",
       "    }\n",
       "\n",
       "    .dataframe thead th {\n",
       "        text-align: right;\n",
       "    }\n",
       "</style>\n",
       "<table border=\"1\" class=\"dataframe\">\n",
       "  <thead>\n",
       "    <tr style=\"text-align: right;\">\n",
       "      <th></th>\n",
       "      <th>Date</th>\n",
       "      <th>Symbol</th>\n",
       "      <th>Series</th>\n",
       "      <th>Prev Close</th>\n",
       "      <th>Open</th>\n",
       "      <th>High</th>\n",
       "      <th>Low</th>\n",
       "      <th>Last</th>\n",
       "      <th>Close</th>\n",
       "      <th>VWAP</th>\n",
       "      <th>Volume</th>\n",
       "      <th>Turnover</th>\n",
       "      <th>Trades</th>\n",
       "      <th>Deliverable Volume</th>\n",
       "      <th>%Deliverble</th>\n",
       "    </tr>\n",
       "  </thead>\n",
       "  <tbody>\n",
       "    <tr>\n",
       "      <th>0</th>\n",
       "      <td>2015-01-01</td>\n",
       "      <td>INFY</td>\n",
       "      <td>EQ</td>\n",
       "      <td>1972.55</td>\n",
       "      <td>1968.95</td>\n",
       "      <td>1982.00</td>\n",
       "      <td>1956.9</td>\n",
       "      <td>1971.00</td>\n",
       "      <td>1974.40</td>\n",
       "      <td>1971.34</td>\n",
       "      <td>500691</td>\n",
       "      <td>9.870306e+13</td>\n",
       "      <td>14908</td>\n",
       "      <td>258080</td>\n",
       "      <td>0.5154</td>\n",
       "    </tr>\n",
       "    <tr>\n",
       "      <th>1</th>\n",
       "      <td>2015-01-02</td>\n",
       "      <td>INFY</td>\n",
       "      <td>EQ</td>\n",
       "      <td>1974.40</td>\n",
       "      <td>1972.00</td>\n",
       "      <td>2019.05</td>\n",
       "      <td>1972.0</td>\n",
       "      <td>2017.95</td>\n",
       "      <td>2013.20</td>\n",
       "      <td>2003.25</td>\n",
       "      <td>1694580</td>\n",
       "      <td>3.394669e+14</td>\n",
       "      <td>54166</td>\n",
       "      <td>1249104</td>\n",
       "      <td>0.7371</td>\n",
       "    </tr>\n",
       "    <tr>\n",
       "      <th>2</th>\n",
       "      <td>2015-01-05</td>\n",
       "      <td>INFY</td>\n",
       "      <td>EQ</td>\n",
       "      <td>2013.20</td>\n",
       "      <td>2009.90</td>\n",
       "      <td>2030.00</td>\n",
       "      <td>1977.5</td>\n",
       "      <td>1996.00</td>\n",
       "      <td>1995.90</td>\n",
       "      <td>2004.59</td>\n",
       "      <td>2484256</td>\n",
       "      <td>4.979911e+14</td>\n",
       "      <td>82694</td>\n",
       "      <td>1830962</td>\n",
       "      <td>0.7370</td>\n",
       "    </tr>\n",
       "    <tr>\n",
       "      <th>3</th>\n",
       "      <td>2015-01-06</td>\n",
       "      <td>INFY</td>\n",
       "      <td>EQ</td>\n",
       "      <td>1995.90</td>\n",
       "      <td>1980.00</td>\n",
       "      <td>1985.00</td>\n",
       "      <td>1934.1</td>\n",
       "      <td>1965.10</td>\n",
       "      <td>1954.20</td>\n",
       "      <td>1954.82</td>\n",
       "      <td>2416829</td>\n",
       "      <td>4.724458e+14</td>\n",
       "      <td>108209</td>\n",
       "      <td>1772070</td>\n",
       "      <td>0.7332</td>\n",
       "    </tr>\n",
       "    <tr>\n",
       "      <th>4</th>\n",
       "      <td>2015-01-07</td>\n",
       "      <td>INFY</td>\n",
       "      <td>EQ</td>\n",
       "      <td>1954.20</td>\n",
       "      <td>1965.00</td>\n",
       "      <td>1974.75</td>\n",
       "      <td>1950.0</td>\n",
       "      <td>1966.05</td>\n",
       "      <td>1963.55</td>\n",
       "      <td>1962.59</td>\n",
       "      <td>1812479</td>\n",
       "      <td>3.557162e+14</td>\n",
       "      <td>62463</td>\n",
       "      <td>1317720</td>\n",
       "      <td>0.7270</td>\n",
       "    </tr>\n",
       "  </tbody>\n",
       "</table>\n",
       "</div>"
      ],
      "text/plain": [
       "         Date Symbol Series  Prev Close     Open     High     Low     Last  \\\n",
       "0  2015-01-01   INFY     EQ     1972.55  1968.95  1982.00  1956.9  1971.00   \n",
       "1  2015-01-02   INFY     EQ     1974.40  1972.00  2019.05  1972.0  2017.95   \n",
       "2  2015-01-05   INFY     EQ     2013.20  2009.90  2030.00  1977.5  1996.00   \n",
       "3  2015-01-06   INFY     EQ     1995.90  1980.00  1985.00  1934.1  1965.10   \n",
       "4  2015-01-07   INFY     EQ     1954.20  1965.00  1974.75  1950.0  1966.05   \n",
       "\n",
       "     Close     VWAP   Volume      Turnover  Trades  Deliverable Volume  \\\n",
       "0  1974.40  1971.34   500691  9.870306e+13   14908              258080   \n",
       "1  2013.20  2003.25  1694580  3.394669e+14   54166             1249104   \n",
       "2  1995.90  2004.59  2484256  4.979911e+14   82694             1830962   \n",
       "3  1954.20  1954.82  2416829  4.724458e+14  108209             1772070   \n",
       "4  1963.55  1962.59  1812479  3.557162e+14   62463             1317720   \n",
       "\n",
       "   %Deliverble  \n",
       "0       0.5154  \n",
       "1       0.7371  \n",
       "2       0.7370  \n",
       "3       0.7332  \n",
       "4       0.7270  "
      ]
     },
     "execution_count": 14,
     "metadata": {},
     "output_type": "execute_result"
    }
   ],
   "source": [
    "df1.head()"
   ]
  },
  {
   "cell_type": "code",
   "execution_count": 22,
   "id": "a7b5b4ed",
   "metadata": {},
   "outputs": [
    {
     "data": {
      "text/plain": [
       "Date                  0\n",
       "Symbol                0\n",
       "Series                0\n",
       "Prev Close            0\n",
       "Open                  0\n",
       "High                  0\n",
       "Low                   0\n",
       "Last                  0\n",
       "Close                 0\n",
       "VWAP                  0\n",
       "Volume                0\n",
       "Turnover              0\n",
       "Trades                0\n",
       "Deliverable Volume    0\n",
       "%Deliverble           0\n",
       "dtype: int64"
      ]
     },
     "execution_count": 22,
     "metadata": {},
     "output_type": "execute_result"
    }
   ],
   "source": [
    "df1.isnull().sum()"
   ]
  },
  {
   "cell_type": "code",
   "execution_count": 15,
   "id": "04bc64d3",
   "metadata": {},
   "outputs": [
    {
     "name": "stdout",
     "output_type": "stream",
     "text": [
      "Please provide your Kaggle credentials to download this dataset. Learn more: http://bit.ly/kaggle-creds\n",
      "Your Kaggle username: sumit0730\n",
      "Your Kaggle Key: ········\n"
     ]
    },
    {
     "name": "stderr",
     "output_type": "stream",
     "text": [
      "\r",
      "  0%|                                                                                      | 0.00/3.03M [00:00<?, ?B/s]"
     ]
    },
    {
     "name": "stdout",
     "output_type": "stream",
     "text": [
      "Downloading stock-time-series-20050101-to-20171231.zip to .\\stock-time-series-20050101-to-20171231\n"
     ]
    },
    {
     "name": "stderr",
     "output_type": "stream",
     "text": [
      "100%|██████████████████████████████████████████████████████████████████████████████| 3.03M/3.03M [00:05<00:00, 530kB/s]"
     ]
    },
    {
     "name": "stdout",
     "output_type": "stream",
     "text": [
      "\n"
     ]
    },
    {
     "name": "stderr",
     "output_type": "stream",
     "text": [
      "\n"
     ]
    }
   ],
   "source": [
    "## loading another dataset\n",
    "od.download('https://www.kaggle.com/datasets/szrlee/stock-time-series-20050101-to-20171231')"
   ]
  },
  {
   "cell_type": "code",
   "execution_count": 16,
   "id": "a8afb812",
   "metadata": {},
   "outputs": [],
   "source": [
    "df2=pd.read_csv('./stock-time-series-20050101-to-20171231/AABA_2006-01-01_to_2018-01-01.csv')"
   ]
  },
  {
   "cell_type": "code",
   "execution_count": 17,
   "id": "ac52cc38",
   "metadata": {},
   "outputs": [
    {
     "data": {
      "text/html": [
       "<div>\n",
       "<style scoped>\n",
       "    .dataframe tbody tr th:only-of-type {\n",
       "        vertical-align: middle;\n",
       "    }\n",
       "\n",
       "    .dataframe tbody tr th {\n",
       "        vertical-align: top;\n",
       "    }\n",
       "\n",
       "    .dataframe thead th {\n",
       "        text-align: right;\n",
       "    }\n",
       "</style>\n",
       "<table border=\"1\" class=\"dataframe\">\n",
       "  <thead>\n",
       "    <tr style=\"text-align: right;\">\n",
       "      <th></th>\n",
       "      <th>Date</th>\n",
       "      <th>Open</th>\n",
       "      <th>High</th>\n",
       "      <th>Low</th>\n",
       "      <th>Close</th>\n",
       "      <th>Volume</th>\n",
       "      <th>Name</th>\n",
       "    </tr>\n",
       "  </thead>\n",
       "  <tbody>\n",
       "    <tr>\n",
       "      <th>0</th>\n",
       "      <td>2006-01-03</td>\n",
       "      <td>39.69</td>\n",
       "      <td>41.22</td>\n",
       "      <td>38.79</td>\n",
       "      <td>40.91</td>\n",
       "      <td>24232729</td>\n",
       "      <td>AABA</td>\n",
       "    </tr>\n",
       "    <tr>\n",
       "      <th>1</th>\n",
       "      <td>2006-01-04</td>\n",
       "      <td>41.22</td>\n",
       "      <td>41.90</td>\n",
       "      <td>40.77</td>\n",
       "      <td>40.97</td>\n",
       "      <td>20553479</td>\n",
       "      <td>AABA</td>\n",
       "    </tr>\n",
       "    <tr>\n",
       "      <th>2</th>\n",
       "      <td>2006-01-05</td>\n",
       "      <td>40.93</td>\n",
       "      <td>41.73</td>\n",
       "      <td>40.85</td>\n",
       "      <td>41.53</td>\n",
       "      <td>12829610</td>\n",
       "      <td>AABA</td>\n",
       "    </tr>\n",
       "    <tr>\n",
       "      <th>3</th>\n",
       "      <td>2006-01-06</td>\n",
       "      <td>42.88</td>\n",
       "      <td>43.57</td>\n",
       "      <td>42.80</td>\n",
       "      <td>43.21</td>\n",
       "      <td>29422828</td>\n",
       "      <td>AABA</td>\n",
       "    </tr>\n",
       "    <tr>\n",
       "      <th>4</th>\n",
       "      <td>2006-01-09</td>\n",
       "      <td>43.10</td>\n",
       "      <td>43.66</td>\n",
       "      <td>42.82</td>\n",
       "      <td>43.42</td>\n",
       "      <td>16268338</td>\n",
       "      <td>AABA</td>\n",
       "    </tr>\n",
       "  </tbody>\n",
       "</table>\n",
       "</div>"
      ],
      "text/plain": [
       "         Date   Open   High    Low  Close    Volume  Name\n",
       "0  2006-01-03  39.69  41.22  38.79  40.91  24232729  AABA\n",
       "1  2006-01-04  41.22  41.90  40.77  40.97  20553479  AABA\n",
       "2  2006-01-05  40.93  41.73  40.85  41.53  12829610  AABA\n",
       "3  2006-01-06  42.88  43.57  42.80  43.21  29422828  AABA\n",
       "4  2006-01-09  43.10  43.66  42.82  43.42  16268338  AABA"
      ]
     },
     "execution_count": 17,
     "metadata": {},
     "output_type": "execute_result"
    }
   ],
   "source": [
    "df2.head()"
   ]
  },
  {
   "cell_type": "code",
   "execution_count": 21,
   "id": "b3656d12",
   "metadata": {},
   "outputs": [
    {
     "data": {
      "text/plain": [
       "Date      0\n",
       "Open      0\n",
       "High      0\n",
       "Low       0\n",
       "Close     0\n",
       "Volume    0\n",
       "Name      0\n",
       "dtype: int64"
      ]
     },
     "execution_count": 21,
     "metadata": {},
     "output_type": "execute_result"
    }
   ],
   "source": [
    "df2.isnull().sum()"
   ]
  },
  {
   "cell_type": "code",
   "execution_count": 18,
   "id": "ebf89e17",
   "metadata": {},
   "outputs": [],
   "source": [
    "## To campare two dataset we use datacompy library\n",
    "import datacompy"
   ]
  },
  {
   "cell_type": "code",
   "execution_count": 23,
   "id": "296384eb",
   "metadata": {},
   "outputs": [],
   "source": [
    "compare=datacompy.Compare(df1,df2,on_index=True,abs_tol=0.0001,rel_tol=0,df1_name='original',df2_name='new')"
   ]
  },
  {
   "cell_type": "code",
   "execution_count": 24,
   "id": "65fac497",
   "metadata": {},
   "outputs": [
    {
     "name": "stdout",
     "output_type": "stream",
     "text": [
      "DataComPy Comparison\n",
      "--------------------\n",
      "\n",
      "DataFrame Summary\n",
      "-----------------\n",
      "\n",
      "  DataFrame  Columns  Rows\n",
      "0  original       15   248\n",
      "1       new        7  3019\n",
      "\n",
      "Column Summary\n",
      "--------------\n",
      "\n",
      "Number of columns in common: 6\n",
      "Number of columns in original but not in new: 9\n",
      "Number of columns in new but not in original: 1\n",
      "\n",
      "Row Summary\n",
      "-----------\n",
      "\n",
      "Matched on: index\n",
      "Any duplicates on match values: No\n",
      "Absolute Tolerance: 0.0001\n",
      "Relative Tolerance: 0\n",
      "Number of rows in common: 248\n",
      "Number of rows in original but not in new: 0\n",
      "Number of rows in new but not in original: 2,771\n",
      "\n",
      "Number of rows with some compared columns unequal: 248\n",
      "Number of rows with all compared columns equal: 0\n",
      "\n",
      "Column Comparison\n",
      "-----------------\n",
      "\n",
      "Number of columns compared with some values unequal: 6\n",
      "Number of columns compared with all values equal: 0\n",
      "Total number of values which compare unequal: 1,488\n",
      "\n",
      "Columns with Unequal Values or Types\n",
      "------------------------------------\n",
      "\n",
      "   Column original dtype new dtype  # Unequal      Max Diff  # Null Diff\n",
      "4   close        float64   float64        248  2.292310e+03            0\n",
      "0    date         object    object        248  0.000000e+00            0\n",
      "2    high        float64   float64        248  2.302660e+03            0\n",
      "3     low        float64   float64        248  2.259670e+03            0\n",
      "1    open        float64   float64        248  2.296010e+03            0\n",
      "5  volume          int64     int64        248  2.022238e+08            0\n",
      "\n",
      "Sample Rows with Unequal Values\n",
      "-------------------------------\n",
      "\n",
      "    date (original)  date (new)\n",
      "3        2015-01-06  2006-01-06\n",
      "199      2015-10-20  2006-10-17\n",
      "177      2015-09-15  2006-09-15\n",
      "133      2015-07-15  2006-07-14\n",
      "209      2015-11-04  2006-10-31\n",
      "240      2015-12-21  2006-12-14\n",
      "151      2015-08-10  2006-08-09\n",
      "182      2015-09-23  2006-09-22\n",
      "148      2015-08-05  2006-08-04\n",
      "89       2015-05-14  2006-05-11\n",
      "\n",
      "     open (original)  open (new)\n",
      "172          1062.00       28.04\n",
      "26           2200.00       33.01\n",
      "235          1049.50       26.95\n",
      "247          1090.15       25.49\n",
      "70           2222.00       31.14\n",
      "152          1098.80       26.95\n",
      "122           990.00       31.75\n",
      "243          1102.05       26.05\n",
      "201          1141.80       23.02\n",
      "89           1960.00       31.96\n",
      "\n",
      "     high (original)  high (new)\n",
      "114          1007.95       30.86\n",
      "41           2308.50       32.07\n",
      "126           988.00       32.99\n",
      "160          1160.95       29.65\n",
      "47           2240.00       30.97\n",
      "137          1149.00       26.21\n",
      "120          1011.60       31.70\n",
      "39           2280.65       32.42\n",
      "152          1116.90       27.80\n",
      "15           2203.00       35.48\n",
      "\n",
      "     low (original)  low (new)\n",
      "108         1985.00      29.83\n",
      "1           1972.00      40.77\n",
      "9           2092.60      38.96\n",
      "126          975.00      32.33\n",
      "125          982.00      32.90\n",
      "206         1130.00      24.36\n",
      "172         1052.30      27.97\n",
      "110         1955.50      29.66\n",
      "29          2273.00      32.05\n",
      "53          2222.75      30.02\n",
      "\n",
      "     close (original)  close (new)\n",
      "169           1099.35        29.07\n",
      "231           1044.40        26.49\n",
      "42            2297.85        31.57\n",
      "43            2274.65        31.43\n",
      "235           1069.50        26.63\n",
      "63            2178.20        32.10\n",
      "86            1993.65        32.87\n",
      "193           1122.90        25.03\n",
      "116           1023.85        30.60\n",
      "158           1175.55        29.78\n",
      "\n",
      "     volume (original)  volume (new)\n",
      "32           2153441.0      12620166\n",
      "124          2003784.0      22686536\n",
      "179          5788438.0     127739742\n",
      "15           2489599.0      23786001\n",
      "164          7671696.0      10405937\n",
      "100          4748261.0      13843907\n",
      "119          3558733.0      17378470\n",
      "55           1269675.0      33944220\n",
      "89           1558461.0      24278733\n",
      "34           1742907.0      18433966\n",
      "\n",
      "Sample Rows Only in new (First 10 Columns)\n",
      "------------------------------------------\n",
      "\n",
      "            date   open   high    low  close    volume  name\n",
      "2781  2017-01-23  41.95  42.45  41.84  42.40  13662837  AABA\n",
      "2568  2016-03-18  34.54  35.21  34.38  35.17  20488334  AABA\n",
      "1434  2011-09-14  14.47  14.94  14.34  14.55  37389606  AABA\n",
      "2606  2016-05-12  37.39  37.51  36.79  37.03  11169187  AABA\n",
      "2160  2014-08-05  36.32  36.42  35.62  35.70  17636353  AABA\n",
      "252   2007-01-04  25.64  26.92  25.52  26.85  32565729  AABA\n",
      "1589  2012-04-26  15.44  15.55  15.38  15.53  12543229  AABA\n",
      "1285  2011-02-10  16.39  16.72  16.35  16.62  15430411  AABA\n",
      "2660  2016-07-29  38.47  38.52  38.08  38.19  13199145  AABA\n",
      "324   2007-04-19  28.10  28.23  27.46  27.51  45686451  AABA\n",
      "\n",
      "\n"
     ]
    }
   ],
   "source": [
    "print(compare.report())"
   ]
  },
  {
   "cell_type": "code",
   "execution_count": null,
   "id": "e8e7c95e",
   "metadata": {},
   "outputs": [],
   "source": []
  },
  {
   "cell_type": "code",
   "execution_count": null,
   "id": "e8d4dec1",
   "metadata": {},
   "outputs": [],
   "source": []
  },
  {
   "cell_type": "code",
   "execution_count": null,
   "id": "493a61b5",
   "metadata": {},
   "outputs": [],
   "source": []
  },
  {
   "cell_type": "code",
   "execution_count": null,
   "id": "bc16fdb2",
   "metadata": {},
   "outputs": [],
   "source": []
  },
  {
   "cell_type": "code",
   "execution_count": null,
   "id": "30ef8cc1",
   "metadata": {},
   "outputs": [],
   "source": []
  },
  {
   "cell_type": "code",
   "execution_count": null,
   "id": "b6228077",
   "metadata": {},
   "outputs": [],
   "source": []
  },
  {
   "cell_type": "code",
   "execution_count": null,
   "id": "b8eccccf",
   "metadata": {},
   "outputs": [],
   "source": []
  },
  {
   "cell_type": "code",
   "execution_count": null,
   "id": "1d7554f5",
   "metadata": {},
   "outputs": [],
   "source": []
  },
  {
   "cell_type": "code",
   "execution_count": null,
   "id": "50591c41",
   "metadata": {},
   "outputs": [],
   "source": []
  },
  {
   "cell_type": "code",
   "execution_count": null,
   "id": "0fd5b57f",
   "metadata": {},
   "outputs": [],
   "source": []
  },
  {
   "cell_type": "code",
   "execution_count": null,
   "id": "9e587154",
   "metadata": {},
   "outputs": [],
   "source": []
  }
 ],
 "metadata": {
  "kernelspec": {
   "display_name": "Python 3",
   "language": "python",
   "name": "python3"
  },
  "language_info": {
   "codemirror_mode": {
    "name": "ipython",
    "version": 3
   },
   "file_extension": ".py",
   "mimetype": "text/x-python",
   "name": "python",
   "nbconvert_exporter": "python",
   "pygments_lexer": "ipython3",
   "version": "3.8.8"
  }
 },
 "nbformat": 4,
 "nbformat_minor": 5
}
